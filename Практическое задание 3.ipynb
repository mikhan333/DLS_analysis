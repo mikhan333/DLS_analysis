{
 "cells": [
  {
   "cell_type": "markdown",
   "metadata": {},
   "source": [
    "# Задача динамического рассеяния света (DLS)"
   ]
  },
  {
   "cell_type": "markdown",
   "metadata": {},
   "source": [
    "В DLS, PSD можно перевернуть от нормализованного ACF электрического поля\n",
    "$$\n",
    "g(\\tau) = \\int_{0}^{\\infty} G(\\Gamma)\\exp(-\\Gamma\\tau)d\\Gamma    (1)\n",
    "$$\n",
    "в котором G-ширина линии распада, τ-время задержки, а $G(\\Gamma)$- нормализованная функция распределения линии распада. $G(\\Gamma)$ содержит информацию PSD и удовлетворяет условиям $\\int_{0}^{\\infty}G(\\Gamma)d\\Gamma = 1$. Согласно следующим трем формулам, PSD может быть решена из некорректного уравнения (1).\n",
    "\n",
    "$$\n",
    "\\Gamma = Dq^2 \n",
    "$$\n",
    "\n",
    "$$\n",
    "q = \\frac{4\\pi l}{\\lambda}\\sin(\\frac{\\theta}{2})\n",
    "$$\n",
    "\n",
    "$$\n",
    "D = \\frac{kbT}{3\\pi\\eta d}\n",
    "$$\n",
    "\n",
    "в котором q-рассеянный вектор, D-коэффициент диффузии, l-длина волны падающего света в вакуум, q-угол рассеяния, l-показатель преломления раствора, T-абсолютная температура, kb - постоянная Больцмана, d-диаметр частицы, а $\\eta$ -вязкость раствора\n",
    "\n",
    "Решение задачи динамического рассеяния света (DLS) позволяет определять размеры частиц в растворе по спектру интенсивности рассеяного света. Если растворе представлен один сорт частиц, то спектр итенсивности для нее определяется кривой Лоренца:\n",
    "$$\n",
    "I(f) = \\frac{A}{\\pi} \\frac{\\Gamma}{(2\\pi f)^2 + \\Gamma^2}\n",
    "$$\n",
    "Здесь $f$ - частота, $\\Gamma$ - характеристика частицы, обратно пропорциональная ее диаметру.\n",
    "\n",
    "Для раствора, содержащего $n$ частиц, спектр интенсивности есть сумма Лоренцов для каждой отдельной частицы, взятых с определенным весом, пропорциональным их концентрации:\n",
    "$$\n",
    "I(f) = \\frac{1}{\\pi} \\sum_{i=1}^n\\frac{A(\\Gamma_i)\\Gamma_i}{(2\\pi f)^2 + \\Gamma_i^2}\n",
    "$$\n",
    "\n",
    "В результате эксперимента методом DLS получается кривая интенсивности рассеяния, по которой необходимо определить частицы каких размеров представлены в растворе. Предполагая, что "
   ]
  },
  {
   "cell_type": "code",
   "execution_count": 1,
   "metadata": {},
   "outputs": [],
   "source": [
    "\n",
    "%matplotlib inline\n",
    "import numpy as np\n",
    "from matplotlib import pyplot as plt\n",
    "import sklearn.linear_model as sklm\n",
    "import scipy\n",
    "from numpy.fft import fft, fftfreq\n",
    "\n",
    "#fft Вычислить одномерное дискретное преобразование Фурье.\n",
    "#fftreq Верните дискретные частоты выборки преобразования Фурье.\n",
    "# основные константы. В этой части определяется все, что связано с постановкой эксперимента\n",
    "kb = 1.38064e-23 # постоянная Больцмана\n",
    "T = 273.15 + 24.85 # температура в K\n",
    "theta = np.pi/2 # угол рассеяния\n",
    "n = 1.3331 # показатель преломления\n",
    "eta = 0.89e-3 # Н * с/м^2 - динамическая вязкость воды\n",
    "l = 632.8e-9 # Длина волны лазера\n",
    "\n",
    "# далее задаем коэффициент, связывающий характеричтику Gamma с размером частицы\n",
    "coeff = (kb * T/(3 * np.pi * eta)) * (4 * np.pi * n / l)**2 * np.sin(theta/2)**2\n",
    "d1 = 300e-9\n",
    "G1 = coeff / d1 # Gamma для частицы размером 300 нм\n",
    "d2 = 700e-9\n",
    "G2 = coeff / d2\n",
    "\n",
    "# определяем кривые Лоренца для частиц\n",
    "w = np.arange(1,10001)\n",
    "y1 = G1 / ((2 * np.pi * w)**2 + G1**2)\n",
    "y2 = G2 / ((2 * np.pi * w)**2 + G2**2)\n",
    "y = y1 + y2\n",
    "#y = y1\n",
    "\n"
   ]
  },
  {
   "cell_type": "code",
   "execution_count": 2,
   "metadata": {},
   "outputs": [
    {
     "data": {
      "text/plain": [
       "[<matplotlib.lines.Line2D at 0x226f7424710>]"
      ]
     },
     "execution_count": 2,
     "metadata": {},
     "output_type": "execute_result"
    },
    {
     "data": {
      "image/png": "[encoded data removed]",
      "text/plain": [
       "<Figure size 432x288 with 1 Axes>"
      ]
     },
     "metadata": {},
     "output_type": "display_data"
    }
   ],
   "source": [
    "%matplotlib inline\n",
    "from matplotlib import pyplot as plt\n",
    "\n",
    "# кривая Лоренца\n",
    "plt.plot(w, y, 'red')"
   ]
  },
  {
   "cell_type": "markdown",
   "metadata": {},
   "source": [
    "# Преобразование Фурье получит Лоренц"
   ]
  },
  {
   "cell_type": "code",
   "execution_count": 3,
   "metadata": {},
   "outputs": [
    {
     "data": {
      "image/png": "[encoded data removed]",
      "text/plain": [
       "<Figure size 432x288 with 1 Axes>"
      ]
     },
     "metadata": {},
     "output_type": "display_data"
    }
   ],
   "source": [
    "%matplotlib inline\n",
    "import numpy as np\n",
    "import matplotlib.pyplot as plt\n",
    "import scipy.fftpack\n",
    "\n",
    "#fig = plt.figure(figsize=[14,4])\n",
    "N = 10000           # Number of samplepoints\n",
    "Fs = 11025.0\n",
    "T = 1.0 / Fs      # N_samps*T (#samples x sample period) is the sample spacing.\n",
    "#N_fft = 80        # Number of bins (chooses granularity)\n",
    "x = np.linspace(0, N* T, N)     # the interval\n",
    "y = y1 + y2   # the signal\n",
    "\n",
    "\n",
    "# Compute the fft.\n",
    "xf = np.linspace(0.0, 1.0/(2.0*T), N//2)\n",
    "yf = scipy.fftpack.fft(y)\n",
    "\n",
    "\n",
    "##### Plot the fft #####\n",
    "plt.figure(1)\n",
    "plt.plot(xf, 2.0/N * np.abs(yf[0:N//2]))\n",
    "plt.grid()\n",
    "plt.title(\"True fft\")\n",
    "plt.show()\n",
    "#plt.figure(2)\n",
    "#plt.plot(x, y, label = \" f(x)\")\n",
    "#plt.show()"
   ]
  },
  {
   "cell_type": "code",
   "execution_count": 4,
   "metadata": {},
   "outputs": [],
   "source": [
    "# диапазон размеров частиц, где ищем нужный размер \n",
    "d_min = 1e-9 # 1 нм\n",
    "d_max = 1e-6 \n",
    "\n",
    "# задаем сетку по Gamma\n",
    "G_min = coeff/d_max\n",
    "G_max = coeff/d_min\n",
    "N = 256*8 # Число узлов в сетке по \\Gamma\n",
    "M = w.size # Число точек по частоте\n",
    "p = (G_max/G_min)**(1/(N-1))\n",
    "G = np.zeros(N)\n",
    "\n",
    "# неравнмерная сетка со сгущением к нулю (так как больщий вклад в интенсивность дают крупные частицы)\n",
    "# хотя такая сетка - это не единственно возможный вариант\n",
    "for j in range(N):\n",
    "    G[j] = G_min * (p**j)\n",
    "\n",
    "# вот равномерная сетка\n",
    "#G = np.linspace(G_min, G_max, N)    \n",
    "\n",
    "A = np.zeros((M,N))\n",
    "\n",
    "# Матрица коэффициентов (составляется по базисным ф-ям)\n",
    "for i in range(M):\n",
    "    for j in range(N):\n",
    "        A[i,j] = G[j] / ((2 * np.pi * w[i])**2 + G[j]**2)  "
   ]
  },
  {
   "cell_type": "markdown",
   "metadata": {},
   "source": []
  },
  {
   "cell_type": "code",
   "execution_count": 20,
   "metadata": {},
   "outputs": [],
   "source": [
    "# Функция для построения для одного примера\n",
    "import scipy.signal\n",
    "\n",
    "import scipy.stats as stats\n",
    "\n",
    "def draw_given(w, d1, d2, i, y, y1 = [], y2 = []):\n",
    "    fig = plt.figure()\n",
    "    ax1 = plt.subplot(N_samples,2,2*i+1)\n",
    "    \n",
    "    if (len(y1) != 0): \n",
    "        plt.plot(w, y1, 'darkblue')\n",
    "    if (len(y2) != 0): \n",
    "        plt.plot(w, y2, 'blue')\n",
    "    \n",
    "    plt.plot(w, y, 'red')\n",
    "    #Вывод уже умножив на 1e+9\n",
    "    ax1.set_title('Peaks given: [{0:.0f}  {1:.0f}]'.format(d1 * 1e+9, d2 * 1e+9)) # {0:2.0e}\n",
    "    ax1.set_xlabel('Frequency')\n",
    "    \n",
    "def draw_found(w, i, y):\n",
    "    #Tixanova\n",
    "    clf = sklm.Ridge(alpha = 5e-7)\n",
    "    #clf.fit(A, y)\n",
    "#    a = clf.coef_\n",
    "#     Cumulant\n",
    "#    a = stats.kstatvar(A, 2)\n",
    "#     a = clf.coef_\n",
    "#     ## BayesianRidge\n",
    "#     clf = sklm.BayesianRidge()\n",
    "#     clf.fit(A,y)\n",
    "#     a = clf.coef_\n",
    "    \n",
    "    ax2 = plt.subplot(N_samples,2,2*i+2)\n",
    "    line, = plt.plot(1e+9 * coeff/G, a,'.-')\n",
    "    ax2.set_xscale('log')\n",
    "    plt.xlim(d_min*1e9, d_max*1e9)\n",
    "    ax2.set_xlabel('Diameter, *10e-9')\n",
    "    \n",
    "    indexes, _ = scipy.signal.find_peaks(a, height=0.002, distance=10) #height нужно задавать правильный\n",
    "    peaks = sorted(1e+9*coeff/G[indexes])\n",
    "    if (len(peaks) == 2):\n",
    "        ax2.set_title('Peaks found: [{0:.0f}   {1:.0f}]'.format(peaks[0], peaks[1])) # 'Peaks found: %s' % (1e+9*coeff/G[indexes])\n",
    "    elif (len(peaks) == 3):\n",
    "        ax2.set_title('Peaks found: [{0:.0f}   {1:.0f}   {2:.0f}]'.format(peaks[0], peaks[1], peaks[2]))\n",
    "    else:\n",
    "        ax2.set_title('Peak found: [{0:.0f}]'.format(peaks[0]))"
   ]
  },
  {
   "cell_type": "code",
   "execution_count": 21,
   "metadata": {},
   "outputs": [
    {
     "ename": "ValueError",
     "evalue": "x and y must have same first dimension, but have shapes (2048,) and (1,)",
     "output_type": "error",
     "traceback": [
      "\u001b[1;31m---------------------------------------------------------------------------\u001b[0m",
      "\u001b[1;31mValueError\u001b[0m                                Traceback (most recent call last)",
      "\u001b[1;32m<ipython-input-21-45884d14195f>\u001b[0m in \u001b[0;36m<module>\u001b[1;34m()\u001b[0m\n\u001b[0;32m     25\u001b[0m \u001b[1;33m\u001b[0m\u001b[0m\n\u001b[0;32m     26\u001b[0m     \u001b[0mdraw_given\u001b[0m\u001b[1;33m(\u001b[0m\u001b[0mw\u001b[0m\u001b[1;33m,\u001b[0m \u001b[0md1_mass\u001b[0m\u001b[1;33m[\u001b[0m\u001b[0mi\u001b[0m\u001b[1;33m]\u001b[0m\u001b[1;33m,\u001b[0m \u001b[0md2_mass\u001b[0m\u001b[1;33m[\u001b[0m\u001b[0mi\u001b[0m\u001b[1;33m]\u001b[0m\u001b[1;33m,\u001b[0m \u001b[0mi\u001b[0m\u001b[1;33m,\u001b[0m \u001b[0my_mass\u001b[0m\u001b[1;33m[\u001b[0m\u001b[0mi\u001b[0m\u001b[1;33m,\u001b[0m\u001b[1;33m:\u001b[0m\u001b[1;33m]\u001b[0m\u001b[1;33m,\u001b[0m \u001b[0my1\u001b[0m\u001b[1;33m,\u001b[0m \u001b[0my2\u001b[0m\u001b[1;33m)\u001b[0m\u001b[1;33m\u001b[0m\u001b[0m\n\u001b[1;32m---> 27\u001b[1;33m     \u001b[0mdraw_found\u001b[0m\u001b[1;33m(\u001b[0m\u001b[0mw\u001b[0m\u001b[1;33m,\u001b[0m \u001b[0mi\u001b[0m\u001b[1;33m,\u001b[0m \u001b[0my_mass\u001b[0m\u001b[1;33m[\u001b[0m\u001b[0mi\u001b[0m\u001b[1;33m,\u001b[0m\u001b[1;33m:\u001b[0m\u001b[1;33m]\u001b[0m\u001b[1;33m)\u001b[0m\u001b[1;33m\u001b[0m\u001b[0m\n\u001b[0m",
      "\u001b[1;32m<ipython-input-20-459c0c6f0008>\u001b[0m in \u001b[0;36mdraw_found\u001b[1;34m(w, i, y)\u001b[0m\n\u001b[0;32m     32\u001b[0m \u001b[1;33m\u001b[0m\u001b[0m\n\u001b[0;32m     33\u001b[0m     \u001b[0max2\u001b[0m \u001b[1;33m=\u001b[0m \u001b[0mplt\u001b[0m\u001b[1;33m.\u001b[0m\u001b[0msubplot\u001b[0m\u001b[1;33m(\u001b[0m\u001b[0mN_samples\u001b[0m\u001b[1;33m,\u001b[0m\u001b[1;36m2\u001b[0m\u001b[1;33m,\u001b[0m\u001b[1;36m2\u001b[0m\u001b[1;33m*\u001b[0m\u001b[0mi\u001b[0m\u001b[1;33m+\u001b[0m\u001b[1;36m2\u001b[0m\u001b[1;33m)\u001b[0m\u001b[1;33m\u001b[0m\u001b[0m\n\u001b[1;32m---> 34\u001b[1;33m     \u001b[0mline\u001b[0m\u001b[1;33m,\u001b[0m \u001b[1;33m=\u001b[0m \u001b[0mplt\u001b[0m\u001b[1;33m.\u001b[0m\u001b[0mplot\u001b[0m\u001b[1;33m(\u001b[0m\u001b[1;36m1e+9\u001b[0m \u001b[1;33m*\u001b[0m \u001b[0mcoeff\u001b[0m\u001b[1;33m/\u001b[0m\u001b[0mG\u001b[0m\u001b[1;33m,\u001b[0m \u001b[0ma\u001b[0m\u001b[1;33m,\u001b[0m\u001b[1;34m'.-'\u001b[0m\u001b[1;33m)\u001b[0m\u001b[1;33m\u001b[0m\u001b[0m\n\u001b[0m\u001b[0;32m     35\u001b[0m     \u001b[0max2\u001b[0m\u001b[1;33m.\u001b[0m\u001b[0mset_xscale\u001b[0m\u001b[1;33m(\u001b[0m\u001b[1;34m'log'\u001b[0m\u001b[1;33m)\u001b[0m\u001b[1;33m\u001b[0m\u001b[0m\n\u001b[0;32m     36\u001b[0m     \u001b[0mplt\u001b[0m\u001b[1;33m.\u001b[0m\u001b[0mxlim\u001b[0m\u001b[1;33m(\u001b[0m\u001b[0md_min\u001b[0m\u001b[1;33m*\u001b[0m\u001b[1;36m1e9\u001b[0m\u001b[1;33m,\u001b[0m \u001b[0md_max\u001b[0m\u001b[1;33m*\u001b[0m\u001b[1;36m1e9\u001b[0m\u001b[1;33m)\u001b[0m\u001b[1;33m\u001b[0m\u001b[0m\n",
      "\u001b[1;32mC:\\ProgramData\\Anaconda3\\lib\\site-packages\\matplotlib\\pyplot.py\u001b[0m in \u001b[0;36mplot\u001b[1;34m(*args, **kwargs)\u001b[0m\n\u001b[0;32m   3356\u001b[0m                       mplDeprecation)\n\u001b[0;32m   3357\u001b[0m     \u001b[1;32mtry\u001b[0m\u001b[1;33m:\u001b[0m\u001b[1;33m\u001b[0m\u001b[0m\n\u001b[1;32m-> 3358\u001b[1;33m         \u001b[0mret\u001b[0m \u001b[1;33m=\u001b[0m \u001b[0max\u001b[0m\u001b[1;33m.\u001b[0m\u001b[0mplot\u001b[0m\u001b[1;33m(\u001b[0m\u001b[1;33m*\u001b[0m\u001b[0margs\u001b[0m\u001b[1;33m,\u001b[0m \u001b[1;33m**\u001b[0m\u001b[0mkwargs\u001b[0m\u001b[1;33m)\u001b[0m\u001b[1;33m\u001b[0m\u001b[0m\n\u001b[0m\u001b[0;32m   3359\u001b[0m     \u001b[1;32mfinally\u001b[0m\u001b[1;33m:\u001b[0m\u001b[1;33m\u001b[0m\u001b[0m\n\u001b[0;32m   3360\u001b[0m         \u001b[0max\u001b[0m\u001b[1;33m.\u001b[0m\u001b[0m_hold\u001b[0m \u001b[1;33m=\u001b[0m \u001b[0mwashold\u001b[0m\u001b[1;33m\u001b[0m\u001b[0m\n",
      "\u001b[1;32mC:\\ProgramData\\Anaconda3\\lib\\site-packages\\matplotlib\\__init__.py\u001b[0m in \u001b[0;36minner\u001b[1;34m(ax, *args, **kwargs)\u001b[0m\n\u001b[0;32m   1853\u001b[0m                         \u001b[1;34m\"the Matplotlib list!)\"\u001b[0m \u001b[1;33m%\u001b[0m \u001b[1;33m(\u001b[0m\u001b[0mlabel_namer\u001b[0m\u001b[1;33m,\u001b[0m \u001b[0mfunc\u001b[0m\u001b[1;33m.\u001b[0m\u001b[0m__name__\u001b[0m\u001b[1;33m)\u001b[0m\u001b[1;33m,\u001b[0m\u001b[1;33m\u001b[0m\u001b[0m\n\u001b[0;32m   1854\u001b[0m                         RuntimeWarning, stacklevel=2)\n\u001b[1;32m-> 1855\u001b[1;33m             \u001b[1;32mreturn\u001b[0m \u001b[0mfunc\u001b[0m\u001b[1;33m(\u001b[0m\u001b[0max\u001b[0m\u001b[1;33m,\u001b[0m \u001b[1;33m*\u001b[0m\u001b[0margs\u001b[0m\u001b[1;33m,\u001b[0m \u001b[1;33m**\u001b[0m\u001b[0mkwargs\u001b[0m\u001b[1;33m)\u001b[0m\u001b[1;33m\u001b[0m\u001b[0m\n\u001b[0m\u001b[0;32m   1856\u001b[0m \u001b[1;33m\u001b[0m\u001b[0m\n\u001b[0;32m   1857\u001b[0m         inner.__doc__ = _add_data_doc(inner.__doc__,\n",
      "\u001b[1;32mC:\\ProgramData\\Anaconda3\\lib\\site-packages\\matplotlib\\axes\\_axes.py\u001b[0m in \u001b[0;36mplot\u001b[1;34m(self, *args, **kwargs)\u001b[0m\n\u001b[0;32m   1525\u001b[0m         \u001b[0mkwargs\u001b[0m \u001b[1;33m=\u001b[0m \u001b[0mcbook\u001b[0m\u001b[1;33m.\u001b[0m\u001b[0mnormalize_kwargs\u001b[0m\u001b[1;33m(\u001b[0m\u001b[0mkwargs\u001b[0m\u001b[1;33m,\u001b[0m \u001b[0m_alias_map\u001b[0m\u001b[1;33m)\u001b[0m\u001b[1;33m\u001b[0m\u001b[0m\n\u001b[0;32m   1526\u001b[0m \u001b[1;33m\u001b[0m\u001b[0m\n\u001b[1;32m-> 1527\u001b[1;33m         \u001b[1;32mfor\u001b[0m \u001b[0mline\u001b[0m \u001b[1;32min\u001b[0m \u001b[0mself\u001b[0m\u001b[1;33m.\u001b[0m\u001b[0m_get_lines\u001b[0m\u001b[1;33m(\u001b[0m\u001b[1;33m*\u001b[0m\u001b[0margs\u001b[0m\u001b[1;33m,\u001b[0m \u001b[1;33m**\u001b[0m\u001b[0mkwargs\u001b[0m\u001b[1;33m)\u001b[0m\u001b[1;33m:\u001b[0m\u001b[1;33m\u001b[0m\u001b[0m\n\u001b[0m\u001b[0;32m   1528\u001b[0m             \u001b[0mself\u001b[0m\u001b[1;33m.\u001b[0m\u001b[0madd_line\u001b[0m\u001b[1;33m(\u001b[0m\u001b[0mline\u001b[0m\u001b[1;33m)\u001b[0m\u001b[1;33m\u001b[0m\u001b[0m\n\u001b[0;32m   1529\u001b[0m             \u001b[0mlines\u001b[0m\u001b[1;33m.\u001b[0m\u001b[0mappend\u001b[0m\u001b[1;33m(\u001b[0m\u001b[0mline\u001b[0m\u001b[1;33m)\u001b[0m\u001b[1;33m\u001b[0m\u001b[0m\n",
      "\u001b[1;32mC:\\ProgramData\\Anaconda3\\lib\\site-packages\\matplotlib\\axes\\_base.py\u001b[0m in \u001b[0;36m_grab_next_args\u001b[1;34m(self, *args, **kwargs)\u001b[0m\n\u001b[0;32m    404\u001b[0m                 \u001b[0mthis\u001b[0m \u001b[1;33m+=\u001b[0m \u001b[0margs\u001b[0m\u001b[1;33m[\u001b[0m\u001b[1;36m0\u001b[0m\u001b[1;33m]\u001b[0m\u001b[1;33m,\u001b[0m\u001b[1;33m\u001b[0m\u001b[0m\n\u001b[0;32m    405\u001b[0m                 \u001b[0margs\u001b[0m \u001b[1;33m=\u001b[0m \u001b[0margs\u001b[0m\u001b[1;33m[\u001b[0m\u001b[1;36m1\u001b[0m\u001b[1;33m:\u001b[0m\u001b[1;33m]\u001b[0m\u001b[1;33m\u001b[0m\u001b[0m\n\u001b[1;32m--> 406\u001b[1;33m             \u001b[1;32mfor\u001b[0m \u001b[0mseg\u001b[0m \u001b[1;32min\u001b[0m \u001b[0mself\u001b[0m\u001b[1;33m.\u001b[0m\u001b[0m_plot_args\u001b[0m\u001b[1;33m(\u001b[0m\u001b[0mthis\u001b[0m\u001b[1;33m,\u001b[0m \u001b[0mkwargs\u001b[0m\u001b[1;33m)\u001b[0m\u001b[1;33m:\u001b[0m\u001b[1;33m\u001b[0m\u001b[0m\n\u001b[0m\u001b[0;32m    407\u001b[0m                 \u001b[1;32myield\u001b[0m \u001b[0mseg\u001b[0m\u001b[1;33m\u001b[0m\u001b[0m\n\u001b[0;32m    408\u001b[0m \u001b[1;33m\u001b[0m\u001b[0m\n",
      "\u001b[1;32mC:\\ProgramData\\Anaconda3\\lib\\site-packages\\matplotlib\\axes\\_base.py\u001b[0m in \u001b[0;36m_plot_args\u001b[1;34m(self, tup, kwargs)\u001b[0m\n\u001b[0;32m    381\u001b[0m             \u001b[0mx\u001b[0m\u001b[1;33m,\u001b[0m \u001b[0my\u001b[0m \u001b[1;33m=\u001b[0m \u001b[0mindex_of\u001b[0m\u001b[1;33m(\u001b[0m\u001b[0mtup\u001b[0m\u001b[1;33m[\u001b[0m\u001b[1;33m-\u001b[0m\u001b[1;36m1\u001b[0m\u001b[1;33m]\u001b[0m\u001b[1;33m)\u001b[0m\u001b[1;33m\u001b[0m\u001b[0m\n\u001b[0;32m    382\u001b[0m \u001b[1;33m\u001b[0m\u001b[0m\n\u001b[1;32m--> 383\u001b[1;33m         \u001b[0mx\u001b[0m\u001b[1;33m,\u001b[0m \u001b[0my\u001b[0m \u001b[1;33m=\u001b[0m \u001b[0mself\u001b[0m\u001b[1;33m.\u001b[0m\u001b[0m_xy_from_xy\u001b[0m\u001b[1;33m(\u001b[0m\u001b[0mx\u001b[0m\u001b[1;33m,\u001b[0m \u001b[0my\u001b[0m\u001b[1;33m)\u001b[0m\u001b[1;33m\u001b[0m\u001b[0m\n\u001b[0m\u001b[0;32m    384\u001b[0m \u001b[1;33m\u001b[0m\u001b[0m\n\u001b[0;32m    385\u001b[0m         \u001b[1;32mif\u001b[0m \u001b[0mself\u001b[0m\u001b[1;33m.\u001b[0m\u001b[0mcommand\u001b[0m \u001b[1;33m==\u001b[0m \u001b[1;34m'plot'\u001b[0m\u001b[1;33m:\u001b[0m\u001b[1;33m\u001b[0m\u001b[0m\n",
      "\u001b[1;32mC:\\ProgramData\\Anaconda3\\lib\\site-packages\\matplotlib\\axes\\_base.py\u001b[0m in \u001b[0;36m_xy_from_xy\u001b[1;34m(self, x, y)\u001b[0m\n\u001b[0;32m    240\u001b[0m         \u001b[1;32mif\u001b[0m \u001b[0mx\u001b[0m\u001b[1;33m.\u001b[0m\u001b[0mshape\u001b[0m\u001b[1;33m[\u001b[0m\u001b[1;36m0\u001b[0m\u001b[1;33m]\u001b[0m \u001b[1;33m!=\u001b[0m \u001b[0my\u001b[0m\u001b[1;33m.\u001b[0m\u001b[0mshape\u001b[0m\u001b[1;33m[\u001b[0m\u001b[1;36m0\u001b[0m\u001b[1;33m]\u001b[0m\u001b[1;33m:\u001b[0m\u001b[1;33m\u001b[0m\u001b[0m\n\u001b[0;32m    241\u001b[0m             raise ValueError(\"x and y must have same first dimension, but \"\n\u001b[1;32m--> 242\u001b[1;33m                              \"have shapes {} and {}\".format(x.shape, y.shape))\n\u001b[0m\u001b[0;32m    243\u001b[0m         \u001b[1;32mif\u001b[0m \u001b[0mx\u001b[0m\u001b[1;33m.\u001b[0m\u001b[0mndim\u001b[0m \u001b[1;33m>\u001b[0m \u001b[1;36m2\u001b[0m \u001b[1;32mor\u001b[0m \u001b[0my\u001b[0m\u001b[1;33m.\u001b[0m\u001b[0mndim\u001b[0m \u001b[1;33m>\u001b[0m \u001b[1;36m2\u001b[0m\u001b[1;33m:\u001b[0m\u001b[1;33m\u001b[0m\u001b[0m\n\u001b[0;32m    244\u001b[0m             raise ValueError(\"x and y can be no greater than 2-D, but have \"\n",
      "\u001b[1;31mValueError\u001b[0m: x and y must have same first dimension, but have shapes (2048,) and (1,)"
     ]
    },
    {
     "data": {
      "image/png": "[encoded data removed]",
      "text/plain": [
       "<Figure size 1080x2880 with 2 Axes>"
      ]
     },
     "metadata": {},
     "output_type": "display_data"
    }
   ],
   "source": [
    "# Set samples\n",
    "N_samples = 8\n",
    "\n",
    "fig_size = plt.rcParams[\"figure.figsize\"]\n",
    "fig_size[0] = 15 #width\n",
    "fig_size[1] = 5 * N_samples #height\n",
    "plt.rcParams[\"figure.figsize\"] = fig_size\n",
    "\n",
    "d1_mass = [10, 10, 50, 100, 100, 200, 400, 400] \n",
    "d1_mass = [sample * 1e-9 for sample in d1_mass]\n",
    "\n",
    "d2_mass = [50, 100, 500, 200, 400, 600, 500, 800]\n",
    "d2_mass = [sample * 1e-9 for sample in d2_mass]\n",
    "\n",
    "G1_mass = coeff / d1_mass\n",
    "G2_mass = coeff / d2_mass\n",
    "\n",
    "w = 2.0*np.arange(1,10001)\n",
    "y_mass = np.zeros((N_samples, w.size))\n",
    "\n",
    "for i in range(N_samples):\n",
    "    y1 = G1_mass[i] / ((2 * np.pi * w)**2 + G1_mass[i]**2)\n",
    "    y2 = G2_mass[i] / ((2 * np.pi * w)**2 + G2_mass[i]**2)\n",
    "    y_mass[i,:] = y1 + y2\n",
    "\n",
    "    draw_given(w, d1_mass[i], d2_mass[i], i, y_mass[i,:], y1, y2)\n",
    "    draw_found(w, i, y_mass[i,:])"
   ]
  },
  {
   "cell_type": "code",
   "execution_count": null,
   "metadata": {},
   "outputs": [],
   "source": [
    "# BayesianRidge\n",
    "clf = sklm.BayesianRidge()\n",
    "clf.fit(A,y)\n",
    "a1 = clf.coef_\n",
    "#ax = plt.subplot(num_of_methods,1,num)\n",
    "ax = plt.subplot(3,1,1)\n",
    "line, = plt.plot(1e+9 * coeff/G, a1,'.-')\n",
    "ax.set_xscale('log')\n",
    "plt.xlim(d_min*1e9, d_max*1e9)"
   ]
  },
  {
   "cell_type": "code",
   "execution_count": null,
   "metadata": {},
   "outputs": [],
   "source": [
    "# определяем размер частицы, для которой получился максимальный коэффициент\n",
    "import scipy.signal\n",
    "indexes, _ = scipy.signal.find_peaks(a2, height=0.02, distance=50)\n",
    "print('Peaks are: %s' % (1e+9*coeff/G[indexes]))\n",
    "# i, = np.where( a2==max(a2) )\n",
    "# print('Particle size = ', 1e+9*coeff/G[i])"
   ]
  },
  {
   "cell_type": "code",
   "execution_count": null,
   "metadata": {},
   "outputs": [],
   "source": []
  },
  {
   "cell_type": "code",
   "execution_count": null,
   "metadata": {},
   "outputs": [],
   "source": []
  }
 ],
 "metadata": {
  "kernelspec": {
   "display_name": "Python 3",
   "language": "python",
   "name": "python3"
  },
  "language_info": {
   "codemirror_mode": {
    "name": "ipython",
    "version": 3
   },
   "file_extension": ".py",
   "mimetype": "text/x-python",
   "name": "python",
   "nbconvert_exporter": "python",
   "pygments_lexer": "ipython3",
   "version": "3.6.5"
  }
 },
 "nbformat": 4,
 "nbformat_minor": 2
}
